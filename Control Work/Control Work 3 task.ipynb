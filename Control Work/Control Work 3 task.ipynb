{
 "cells": [
  {
   "cell_type": "markdown",
   "id": "93e59fc3",
   "metadata": {},
   "source": [
    "### 3 задание"
   ]
  },
  {
   "cell_type": "code",
   "execution_count": 1,
   "id": "07f872f4",
   "metadata": {},
   "outputs": [],
   "source": [
    "import pandas as pd\n",
    "import csv\n",
    "from itertools import combinations\n",
    "from collections import Counter as count"
   ]
  },
  {
   "cell_type": "code",
   "execution_count": 2,
   "id": "7e12f0df",
   "metadata": {},
   "outputs": [
    {
     "data": {
      "text/html": [
       "<div>\n",
       "<style scoped>\n",
       "    .dataframe tbody tr th:only-of-type {\n",
       "        vertical-align: middle;\n",
       "    }\n",
       "\n",
       "    .dataframe tbody tr th {\n",
       "        vertical-align: top;\n",
       "    }\n",
       "\n",
       "    .dataframe thead th {\n",
       "        text-align: right;\n",
       "    }\n",
       "</style>\n",
       "<table border=\"1\" class=\"dataframe\">\n",
       "  <thead>\n",
       "    <tr style=\"text-align: right;\">\n",
       "      <th></th>\n",
       "      <th>PROD_CODE</th>\n",
       "      <th>BASKET_ID</th>\n",
       "    </tr>\n",
       "  </thead>\n",
       "  <tbody>\n",
       "    <tr>\n",
       "      <th>0</th>\n",
       "      <td>PRD0900725</td>\n",
       "      <td>994106500000895</td>\n",
       "    </tr>\n",
       "    <tr>\n",
       "      <th>1</th>\n",
       "      <td>PRD0901527</td>\n",
       "      <td>994106500000895</td>\n",
       "    </tr>\n",
       "    <tr>\n",
       "      <th>2</th>\n",
       "      <td>PRD0901977</td>\n",
       "      <td>994106500000895</td>\n",
       "    </tr>\n",
       "    <tr>\n",
       "      <th>3</th>\n",
       "      <td>PRD0902163</td>\n",
       "      <td>994106500000895</td>\n",
       "    </tr>\n",
       "    <tr>\n",
       "      <th>4</th>\n",
       "      <td>PRD0902394</td>\n",
       "      <td>994106500000895</td>\n",
       "    </tr>\n",
       "    <tr>\n",
       "      <th>...</th>\n",
       "      <td>...</td>\n",
       "      <td>...</td>\n",
       "    </tr>\n",
       "    <tr>\n",
       "      <th>27802</th>\n",
       "      <td>PRD0903678</td>\n",
       "      <td>994106500835025</td>\n",
       "    </tr>\n",
       "    <tr>\n",
       "      <th>27803</th>\n",
       "      <td>PRD0900902</td>\n",
       "      <td>994106500835025</td>\n",
       "    </tr>\n",
       "    <tr>\n",
       "      <th>27804</th>\n",
       "      <td>PRD0900202</td>\n",
       "      <td>994106500835026</td>\n",
       "    </tr>\n",
       "    <tr>\n",
       "      <th>27805</th>\n",
       "      <td>PRD0900676</td>\n",
       "      <td>994106500835026</td>\n",
       "    </tr>\n",
       "    <tr>\n",
       "      <th>27806</th>\n",
       "      <td>PRD0903678</td>\n",
       "      <td>994106500835026</td>\n",
       "    </tr>\n",
       "  </tbody>\n",
       "</table>\n",
       "<p>27807 rows × 2 columns</p>\n",
       "</div>"
      ],
      "text/plain": [
       "        PROD_CODE        BASKET_ID\n",
       "0      PRD0900725  994106500000895\n",
       "1      PRD0901527  994106500000895\n",
       "2      PRD0901977  994106500000895\n",
       "3      PRD0902163  994106500000895\n",
       "4      PRD0902394  994106500000895\n",
       "...           ...              ...\n",
       "27802  PRD0903678  994106500835025\n",
       "27803  PRD0900902  994106500835025\n",
       "27804  PRD0900202  994106500835026\n",
       "27805  PRD0900676  994106500835026\n",
       "27806  PRD0903678  994106500835026\n",
       "\n",
       "[27807 rows x 2 columns]"
      ]
     },
     "execution_count": 2,
     "metadata": {},
     "output_type": "execute_result"
    }
   ],
   "source": [
    "df = pd.read_csv('transactions.csv', delimiter = ';')        #представляем csv-файл в виде таблицы\n",
    "df"
   ]
  },
  {
   "cell_type": "code",
   "execution_count": 3,
   "id": "fb8d19f9",
   "metadata": {},
   "outputs": [],
   "source": [
    "product_basket = {}                                           #создаем словарь, где ключ-номер корзинки\n",
    "for i in range(len(df)):\n",
    "    product_basket.update({df['BASKET_ID'][i]: []})"
   ]
  },
  {
   "cell_type": "code",
   "execution_count": 4,
   "id": "623cb2e9",
   "metadata": {},
   "outputs": [],
   "source": [
    "for i in range(len(df)):                                       #добавляем в корзинки продукты\n",
    "    product_basket[df['BASKET_ID'][i]].append(df['PROD_CODE'][i])"
   ]
  },
  {
   "cell_type": "code",
   "execution_count": 5,
   "id": "d7a81df4",
   "metadata": {},
   "outputs": [
    {
     "data": {
      "text/plain": [
       "4336"
      ]
     },
     "execution_count": 5,
     "metadata": {},
     "output_type": "execute_result"
    }
   ],
   "source": [
    "len(product_basket)  #кол-во корзинок"
   ]
  },
  {
   "cell_type": "code",
   "execution_count": 6,
   "id": "d4458a7c",
   "metadata": {},
   "outputs": [],
   "source": [
    "doubletons = []                         #создаем даблтоны\n",
    "for key in product_basket:\n",
    "    temp = combinations(product_basket[key], 2)\n",
    "    for i in list(temp):\n",
    "        doubletons.append(i)"
   ]
  },
  {
   "cell_type": "code",
   "execution_count": 7,
   "id": "d11a3890",
   "metadata": {},
   "outputs": [
    {
     "data": {
      "text/plain": [
       "170850"
      ]
     },
     "execution_count": 7,
     "metadata": {},
     "output_type": "execute_result"
    }
   ],
   "source": [
    "len(doubletons)  #кол-во даблтонов"
   ]
  },
  {
   "cell_type": "code",
   "execution_count": 8,
   "id": "e50dfe46",
   "metadata": {},
   "outputs": [],
   "source": [
    "prod_list = df['PROD_CODE'].values   #создаем лист продуктов"
   ]
  },
  {
   "cell_type": "code",
   "execution_count": 9,
   "id": "8c839cc7",
   "metadata": {},
   "outputs": [],
   "source": [
    "product_amount = dict(count(prod_list))  #создаем словарь уникальных продуктов и их кол-ва в общей таблице"
   ]
  },
  {
   "cell_type": "code",
   "execution_count": 10,
   "id": "a4363173",
   "metadata": {},
   "outputs": [
    {
     "data": {
      "text/plain": [
       "3872"
      ]
     },
     "execution_count": 10,
     "metadata": {},
     "output_type": "execute_result"
    }
   ],
   "source": [
    "len(product_amount)  #кол-во уникальных продуктов с кол-вом"
   ]
  },
  {
   "cell_type": "code",
   "execution_count": 11,
   "id": "ced49879",
   "metadata": {},
   "outputs": [],
   "source": [
    "uniq_prod = list(product_amount.keys())  #уникальные продукты, создаю второй, потому что из прошлого будем удалять"
   ]
  },
  {
   "cell_type": "code",
   "execution_count": 12,
   "id": "169e251e",
   "metadata": {},
   "outputs": [
    {
     "data": {
      "text/plain": [
       "3872"
      ]
     },
     "execution_count": 12,
     "metadata": {},
     "output_type": "execute_result"
    }
   ],
   "source": [
    "len(uniq_prod)"
   ]
  },
  {
   "cell_type": "code",
   "execution_count": 13,
   "id": "068f7cf3",
   "metadata": {},
   "outputs": [],
   "source": [
    "unfrequent_prod = []"
   ]
  },
  {
   "cell_type": "code",
   "execution_count": 14,
   "id": "553ffa60",
   "metadata": {},
   "outputs": [],
   "source": [
    "for i in range(len(product_amount)):\n",
    "    if product_amount[uniq_prod[i]] < 3:\n",
    "        product_amount.pop(uniq_prod[i])\n",
    "        unfrequent_prod.append(uniq_prod[i])      #удаляем не частотные продукты из списка с их кол-вом,\n",
    "                                                  #добавляем в список не частотных"
   ]
  },
  {
   "cell_type": "code",
   "execution_count": 15,
   "id": "734f746f",
   "metadata": {},
   "outputs": [
    {
     "data": {
      "text/plain": [
       "1295"
      ]
     },
     "execution_count": 15,
     "metadata": {},
     "output_type": "execute_result"
    }
   ],
   "source": [
    "len(unfrequent_prod)   #кол-во нечастотных продуктов"
   ]
  },
  {
   "cell_type": "code",
   "execution_count": 16,
   "id": "504d1d0f",
   "metadata": {},
   "outputs": [
    {
     "data": {
      "text/plain": [
       "2577"
      ]
     },
     "execution_count": 16,
     "metadata": {},
     "output_type": "execute_result"
    }
   ],
   "source": [
    "len(product_amount)    #кол-во частотных"
   ]
  },
  {
   "cell_type": "code",
   "execution_count": 17,
   "id": "04d8420e",
   "metadata": {},
   "outputs": [
    {
     "data": {
      "text/plain": [
       "3872"
      ]
     },
     "execution_count": 17,
     "metadata": {},
     "output_type": "execute_result"
    }
   ],
   "source": [
    "len(uniq_prod)       #кол-во уникальных"
   ]
  },
  {
   "cell_type": "code",
   "execution_count": 18,
   "id": "c210cd2e",
   "metadata": {},
   "outputs": [],
   "source": [
    "#обозначим для продуктов id\n",
    "uniq_prod_with_id = {}                                          \n",
    "for i in range(len(uniq_prod)):\n",
    "    uniq_prod_with_id.update({uniq_prod[i]: i+1})"
   ]
  },
  {
   "cell_type": "code",
   "execution_count": 19,
   "id": "0a361e50",
   "metadata": {},
   "outputs": [],
   "source": [
    "def hashing(tuple):         #метод для хэширования, если во всех бинарных картах соблюдается уровень поддержки,                 \n",
    "    key = None;             #то возвращаем 1(частотный даблтон), если нет-0\n",
    "    hash1 = (uniq_prod_with_id[tuple[0]] + uniq_prod_with_id[tuple[1]]) % len(uniq_prod_with_id)\n",
    "    hash2 = (uniq_prod_with_id[tuple[0]] + uniq_prod_with_id[tuple[1]] * 2) % len(uniq_prod_with_id)\n",
    "    hash3 = (uniq_prod_with_id[tuple[0]] + uniq_prod_with_id[tuple[1]] * 3) % len(uniq_prod_with_id)\n",
    "    if (hash1 > 3) and (hash2 > 3) and (hash3 > 3):\n",
    "        key = 1\n",
    "    else:\n",
    "        key = 0\n",
    "    return key"
   ]
  },
  {
   "cell_type": "code",
   "execution_count": 20,
   "id": "9f0abac6",
   "metadata": {},
   "outputs": [],
   "source": [
    "binary_map = {}           #cоздаем словарь с даблтонами и их значениями\n",
    "for i in range(len(doubletons)):\n",
    "    binary_map[doubletons[i]] = hashing(doubletons[i])"
   ]
  },
  {
   "cell_type": "code",
   "execution_count": 21,
   "id": "edf9bf5c",
   "metadata": {},
   "outputs": [
    {
     "data": {
      "text/plain": [
       "143695"
      ]
     },
     "execution_count": 21,
     "metadata": {},
     "output_type": "execute_result"
    }
   ],
   "source": [
    "len(binary_map)   #количество уникальных даблтонов"
   ]
  },
  {
   "cell_type": "code",
   "execution_count": 22,
   "id": "e501b13c",
   "metadata": {},
   "outputs": [],
   "source": [
    "key_list = list(binary_map.keys())               #убираем нечастотные наборы\n",
    "for i in range(len(binary_map)):\n",
    "    if (binary_map[key_list[i]] == 0):\n",
    "        binary_map.pop(key_list[i])"
   ]
  },
  {
   "cell_type": "code",
   "execution_count": 23,
   "id": "3196ac31",
   "metadata": {},
   "outputs": [
    {
     "data": {
      "text/plain": [
       "143347"
      ]
     },
     "execution_count": 23,
     "metadata": {},
     "output_type": "execute_result"
    }
   ],
   "source": [
    "len(binary_map)"
   ]
  },
  {
   "cell_type": "code",
   "execution_count": 24,
   "id": "f56c29e5",
   "metadata": {},
   "outputs": [],
   "source": [
    "new_key_list = list(binary_map.keys())      #убираем наборы, в которых содержатся нечастотные элементы из листа unfrequent_prod\n",
    "for i in range(len(new_key_list)):\n",
    "    for j in range(len(unfrequent_prod)):\n",
    "        if new_key_list[i][0] == unfrequent_prod[j] or new_key_list[i][1] == unfrequent_prod[j]:\n",
    "            try:\n",
    "                binary_map.pop(tuple(new_key_list[i]))\n",
    "            except:\n",
    "                pass    "
   ]
  },
  {
   "cell_type": "code",
   "execution_count": 25,
   "id": "075c41f7",
   "metadata": {},
   "outputs": [
    {
     "data": {
      "text/plain": [
       "119906"
      ]
     },
     "execution_count": 25,
     "metadata": {},
     "output_type": "execute_result"
    }
   ],
   "source": [
    "len(binary_map)      #кол-во частотных наборов:)"
   ]
  },
  {
   "cell_type": "markdown",
   "id": "9c6e1f48",
   "metadata": {},
   "source": [
    "##### Начальные данные: продукты = 27807, корзинки = 27807\n",
    "##### Кол-во уникальных корзинок = 4336\n",
    "##### Кол-во даблтонов = 170850\n",
    "##### Кол-во уникальных продуктов = 3872 Из них частотны = 2577 Не частотны = 1295\n",
    "##### Кол-во уникальных даблтонов = 143695\n",
    "##### Кол-во частотных даблтонов = 119906"
   ]
  }
 ],
 "metadata": {
  "kernelspec": {
   "display_name": "Python 3",
   "language": "python",
   "name": "python3"
  },
  "language_info": {
   "codemirror_mode": {
    "name": "ipython",
    "version": 3
   },
   "file_extension": ".py",
   "mimetype": "text/x-python",
   "name": "python",
   "nbconvert_exporter": "python",
   "pygments_lexer": "ipython3",
   "version": "3.8.8"
  }
 },
 "nbformat": 4,
 "nbformat_minor": 5
}
