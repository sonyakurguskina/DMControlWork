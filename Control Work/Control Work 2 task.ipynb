{
 "cells": [
  {
   "cell_type": "markdown",
   "id": "8c674723",
   "metadata": {},
   "source": [
    "### 2 задание"
   ]
  },
  {
   "cell_type": "code",
   "execution_count": 1,
   "id": "f3fda7a1",
   "metadata": {},
   "outputs": [],
   "source": [
    "import re\n",
    "import numpy\n",
    "import hashlib"
   ]
  },
  {
   "cell_type": "code",
   "execution_count": 2,
   "id": "cf1093e9",
   "metadata": {},
   "outputs": [],
   "source": [
    "p = 0.1 #P(false positive)\n",
    "m = 0 #размер массива\n",
    "n = 0 #кол-во элементов\n",
    "k = 0 #optimal number of hash functions\n"
   ]
  },
  {
   "cell_type": "code",
   "execution_count": 3,
   "id": "b8a7315e",
   "metadata": {},
   "outputs": [],
   "source": [
    "def words(text):            #метод для обработки текста, очищаем от знаков препинания и разделяем по словам\n",
    "    words = []\n",
    "    with open(text, \"r\", encoding=\"utf-8\") as file: \n",
    "        for line in file.readlines():\n",
    "            string = re.sub(\"[^\\w\\s]\", \"\", line)\n",
    "            words_in_line = string.split()\n",
    "            words = words + words_in_line\n",
    "        return words\n"
   ]
  },
  {
   "cell_type": "code",
   "execution_count": 4,
   "id": "9d0c4090",
   "metadata": {},
   "outputs": [
    {
     "data": {
      "text/plain": [
       "94"
      ]
     },
     "execution_count": 4,
     "metadata": {},
     "output_type": "execute_result"
    }
   ],
   "source": [
    "n = len(words('text.txt'))  #кол-во слов\n",
    "n"
   ]
  },
  {
   "cell_type": "code",
   "execution_count": 5,
   "id": "757e1d48",
   "metadata": {},
   "outputs": [
    {
     "data": {
      "text/plain": [
       "450"
      ]
     },
     "execution_count": 5,
     "metadata": {},
     "output_type": "execute_result"
    }
   ],
   "source": [
    "m = round(-((n*numpy.log(p))/((numpy.log(2))**2)))   #формула для вычисления длины массива для фильтра\n",
    "m"
   ]
  },
  {
   "cell_type": "code",
   "execution_count": 6,
   "id": "2ac2a645",
   "metadata": {},
   "outputs": [
    {
     "data": {
      "text/plain": [
       "3"
      ]
     },
     "execution_count": 6,
     "metadata": {},
     "output_type": "execute_result"
    }
   ],
   "source": [
    "k = round(m/n*(numpy.log(2)))        #формула для оптимального кол-ва хэш-функций\n",
    "k"
   ]
  },
  {
   "cell_type": "code",
   "execution_count": 7,
   "id": "0db6e06e",
   "metadata": {},
   "outputs": [],
   "source": [
    "array = [0] * m      #массив для фильтра"
   ]
  },
  {
   "cell_type": "code",
   "execution_count": 8,
   "id": "c3b3e38e",
   "metadata": {},
   "outputs": [],
   "source": [
    "def hashing(element):                #метод для хэширования\n",
    "    keys = []\n",
    "    hash1 = hashlib.md5(element.encode()) \n",
    "    hash2 = hashlib.sha1(element.encode())\n",
    "    hash3 = hashlib.sha224(element.encode())\n",
    "    keys.append(int(hash1.hexdigest(), 16))  \n",
    "    keys.append(int(hash2.hexdigest(), 16))\n",
    "    keys.append(int(hash3.hexdigest(), 16))\n",
    "    return keys"
   ]
  },
  {
   "cell_type": "code",
   "execution_count": 9,
   "id": "36b54ae4",
   "metadata": {},
   "outputs": [],
   "source": [
    "def add(element):                 #метод для добавления слов в фильтр\n",
    "    key = 0 \n",
    "    keys = hashing(element)\n",
    "    for i in range(k): \n",
    "        key = int(keys[i] % m) \n",
    "        array[key] += 1  "
   ]
  },
  {
   "cell_type": "code",
   "execution_count": 10,
   "id": "b51dcf55",
   "metadata": {},
   "outputs": [],
   "source": [
    "for i in range(n):              #добавляем элементы\n",
    "    add(words('text.txt')[i])"
   ]
  },
  {
   "cell_type": "markdown",
   "id": "b92e68b8",
   "metadata": {},
   "source": [
    "##### Использовав формулы, я выяснила, что оптимальный размер массива для фильтра = 450, оптимальное кол-во хэш-функций = 3\n"
   ]
  }
 ],
 "metadata": {
  "kernelspec": {
   "display_name": "Python 3",
   "language": "python",
   "name": "python3"
  },
  "language_info": {
   "codemirror_mode": {
    "name": "ipython",
    "version": 3
   },
   "file_extension": ".py",
   "mimetype": "text/x-python",
   "name": "python",
   "nbconvert_exporter": "python",
   "pygments_lexer": "ipython3",
   "version": "3.8.8"
  }
 },
 "nbformat": 4,
 "nbformat_minor": 5
}
